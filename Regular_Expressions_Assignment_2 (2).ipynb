{
 "cells": [
  {
   "cell_type": "code",
   "execution_count": 1,
   "id": "35d49323",
   "metadata": {},
   "outputs": [
    {
     "name": "stdout",
     "output_type": "stream",
     "text": [
      "hello world\n"
     ]
    }
   ],
   "source": [
    "print(\"hello world\")"
   ]
  },
  {
   "cell_type": "code",
   "execution_count": 2,
   "id": "88935bf2",
   "metadata": {},
   "outputs": [
    {
     "name": "stdout",
     "output_type": "stream",
     "text": [
      "My name is Amit Kumar Sharma\n"
     ]
    }
   ],
   "source": [
    "print (\"My name is Amit Kumar Sharma\")"
   ]
  },
  {
   "cell_type": "code",
   "execution_count": 6,
   "id": "659f6638",
   "metadata": {},
   "outputs": [
    {
     "name": "stdout",
     "output_type": "stream",
     "text": [
      "Qns-1 Write a Python program to replace all occurrences of a space, comma, or dot with a colon\n"
     ]
    }
   ],
   "source": [
    "print (\"Qns-1 Write a Python program to replace all occurrences of a space, comma, or dot with a colon\")"
   ]
  },
  {
   "cell_type": "code",
   "execution_count": 5,
   "id": "dda31b68",
   "metadata": {},
   "outputs": [
    {
     "name": "stdout",
     "output_type": "stream",
     "text": [
      "Python:Exercises::PHP:exercises:\n"
     ]
    }
   ],
   "source": [
    "import re\n",
    "text = 'Python Exercises, PHP exercises.'\n",
    "print(re.sub(\"[ ,.]\", \":\", text))"
   ]
  },
  {
   "cell_type": "code",
   "execution_count": 7,
   "id": "838fd2fd",
   "metadata": {},
   "outputs": [
    {
     "name": "stdout",
     "output_type": "stream",
     "text": [
      "Qns-2 Create a dataframe using the dictionary below and remove everything (commas (,), !, XXXX, ;, etc.) from the columns except words\n"
     ]
    }
   ],
   "source": [
    "print (\"Qns-2 Create a dataframe using the dictionary below and remove everything (commas (,), !, XXXX, ;, etc.) from the columns except words\")"
   ]
  },
  {
   "cell_type": "code",
   "execution_count": 8,
   "id": "ad503b15",
   "metadata": {},
   "outputs": [],
   "source": [
    "import pandas as pd"
   ]
  },
  {
   "cell_type": "code",
   "execution_count": 9,
   "id": "e37702e1",
   "metadata": {},
   "outputs": [],
   "source": [
    "data = {'SUMMARY': ['hello, world!', 'XXXXX test', '123four, five:; six...']}"
   ]
  },
  {
   "cell_type": "code",
   "execution_count": 10,
   "id": "31a63dd4",
   "metadata": {},
   "outputs": [],
   "source": [
    "df = pd.DataFrame(data)"
   ]
  },
  {
   "cell_type": "code",
   "execution_count": 11,
   "id": "f34234c6",
   "metadata": {},
   "outputs": [],
   "source": [
    "df['SUMMARY'] = df['SUMMARY'].str.replace('[^a-zA-Z\\s]', '', regex=True)"
   ]
  },
  {
   "cell_type": "code",
   "execution_count": 12,
   "id": "e97a1ec0",
   "metadata": {},
   "outputs": [
    {
     "name": "stdout",
     "output_type": "stream",
     "text": [
      "         SUMMARY\n",
      "0    hello world\n",
      "1     XXXXX test\n",
      "2  four five six\n"
     ]
    }
   ],
   "source": [
    "print(df)"
   ]
  },
  {
   "cell_type": "code",
   "execution_count": 13,
   "id": "c7dfa4cc",
   "metadata": {},
   "outputs": [
    {
     "name": "stdout",
     "output_type": "stream",
     "text": [
      "Qns-3 Create a function in python to find all words that are at least 4 characters long in a string. The use of the re.compile() method is mandatory\n"
     ]
    }
   ],
   "source": [
    "print (\"Qns-3 Create a function in python to find all words that are at least 4 characters long in a string. The use of the re.compile() method is mandatory\")"
   ]
  },
  {
   "cell_type": "code",
   "execution_count": 21,
   "id": "2cd52ab5",
   "metadata": {},
   "outputs": [],
   "source": [
    "import re"
   ]
  },
  {
   "cell_type": "code",
   "execution_count": 19,
   "id": "ce352beb",
   "metadata": {},
   "outputs": [
    {
     "ename": "SyntaxError",
     "evalue": "incomplete input (1313096202.py, line 1)",
     "output_type": "error",
     "traceback": [
      "\u001b[1;36m  Cell \u001b[1;32mIn[19], line 1\u001b[1;36m\u001b[0m\n\u001b[1;33m    def find_long_words (string):\u001b[0m\n\u001b[1;37m                                 ^\u001b[0m\n\u001b[1;31mSyntaxError\u001b[0m\u001b[1;31m:\u001b[0m incomplete input\n"
     ]
    }
   ],
   "source": [
    "def find_long_words (string):"
   ]
  },
  {
   "cell_type": "code",
   "execution_count": 22,
   "id": "f2dbe4d5",
   "metadata": {},
   "outputs": [],
   "source": [
    "def find_words(string):\n",
    "  pattern = re.compile(r'\\b\\w{3,5}\\b')\n",
    "  matches = pattern.findall(string)\n",
    "  return matches"
   ]
  },
  {
   "cell_type": "code",
   "execution_count": 17,
   "id": "04202963",
   "metadata": {},
   "outputs": [],
   "source": [
    "pattern = re.compile(r'\\b\\w{4,}\\b')"
   ]
  },
  {
   "cell_type": "code",
   "execution_count": 23,
   "id": "fa7ed9de",
   "metadata": {},
   "outputs": [
    {
     "name": "stdout",
     "output_type": "stream",
     "text": [
      "['This', 'with', 'words']\n"
     ]
    }
   ],
   "source": [
    "string = \"This is a sample string with words of different lengths.\"\n",
    "result = find_words(string)\n",
    "print(result)"
   ]
  },
  {
   "cell_type": "code",
   "execution_count": 24,
   "id": "340e7116",
   "metadata": {},
   "outputs": [
    {
     "name": "stdout",
     "output_type": "stream",
     "text": [
      "Qns-4 Create a function in python to find all three, four, and five character words in a string. The use of the re.compile() method is mandatory\n"
     ]
    }
   ],
   "source": [
    "print (\"Qns-4 Create a function in python to find all three, four, and five character words in a string. The use of the re.compile() method is mandatory\")"
   ]
  },
  {
   "cell_type": "code",
   "execution_count": 25,
   "id": "b4a550f3",
   "metadata": {},
   "outputs": [],
   "source": [
    "import re\n",
    "\n",
    "def find_words(string):\n",
    "  pattern = re.compile(r'\\b\\w{3,5}\\b')\n",
    "  matches = pattern.findall(string)\n",
    "  return matches\n"
   ]
  },
  {
   "cell_type": "code",
   "execution_count": 26,
   "id": "db9e4b93",
   "metadata": {},
   "outputs": [
    {
     "name": "stdout",
     "output_type": "stream",
     "text": [
      "['This', 'with', 'words']\n"
     ]
    }
   ],
   "source": [
    "string = \"This is a sample string with words of different lengths.\"\n",
    "result = find_words(string)\n",
    "print(result)\n"
   ]
  },
  {
   "cell_type": "code",
   "execution_count": 27,
   "id": "2f4007ca",
   "metadata": {},
   "outputs": [
    {
     "name": "stdout",
     "output_type": "stream",
     "text": [
      "Qns-5 Create a function in Python to remove the parenthesis in a list of strings. The use of the re.compile() method is mandatory\n"
     ]
    }
   ],
   "source": [
    "print (\"Qns-5 Create a function in Python to remove the parenthesis in a list of strings. The use of the re.compile() method is mandatory\")"
   ]
  },
  {
   "cell_type": "code",
   "execution_count": 29,
   "id": "3be0b3fe",
   "metadata": {},
   "outputs": [],
   "source": [
    "print: [\"example (.com)\", \"hr@fliprobo (.com)\", \"github (.com)\", \"Hello (Data Science World)\", \"Data (Scientist)\"]"
   ]
  },
  {
   "cell_type": "code",
   "execution_count": 30,
   "id": "f197f9b8",
   "metadata": {},
   "outputs": [
    {
     "ename": "IndentationError",
     "evalue": "expected an indented block after 'for' statement on line 6 (3789422200.py, line 7)",
     "output_type": "error",
     "traceback": [
      "\u001b[1;36m  Cell \u001b[1;32mIn[30], line 7\u001b[1;36m\u001b[0m\n\u001b[1;33m    modified_string = re.sub(pattern, '', string)\u001b[0m\n\u001b[1;37m    ^\u001b[0m\n\u001b[1;31mIndentationError\u001b[0m\u001b[1;31m:\u001b[0m expected an indented block after 'for' statement on line 6\n"
     ]
    }
   ],
   "source": [
    "import re\n",
    "\n",
    "def remove_parentheses(strings):\n",
    "  pattern = re.compile(r'\\(\\)')\n",
    "  modified_strings = []\n",
    "  for string in strings:\n",
    "  modified_string = re.sub(pattern, '', string)\n",
    "  modified_strings.append(modified_string)\n",
    "  return modified_strings\n"
   ]
  },
  {
   "cell_type": "code",
   "execution_count": 32,
   "id": "e01d90d7",
   "metadata": {},
   "outputs": [
    {
     "data": {
      "text/plain": [
       "['example .com',\n",
       " 'hr@fliprobo .com',\n",
       " 'github .com',\n",
       " 'Hello Data Science World',\n",
       " 'Data Scientist']"
      ]
     },
     "execution_count": 32,
     "metadata": {},
     "output_type": "execute_result"
    }
   ],
   "source": [
    "['example .com', 'hr@fliprobo .com', 'github .com', 'Hello Data Science World', 'Data Scientist']\n"
   ]
  },
  {
   "cell_type": "code",
   "execution_count": 33,
   "id": "e53f2bf9",
   "metadata": {},
   "outputs": [
    {
     "name": "stdout",
     "output_type": "stream",
     "text": [
      "Qns-6 Write a python program to remove the parenthesis area from the text stored in the text file using Regular Expression\n"
     ]
    }
   ],
   "source": [
    "print (\"Qns-6 Write a python program to remove the parenthesis area from the text stored in the text file using Regular Expression\")"
   ]
  },
  {
   "cell_type": "code",
   "execution_count": 34,
   "id": "ed517bea",
   "metadata": {},
   "outputs": [
    {
     "ename": "IndentationError",
     "evalue": "expected an indented block after 'with' statement on line 11 (3248771065.py, line 12)",
     "output_type": "error",
     "traceback": [
      "\u001b[1;36m  Cell \u001b[1;32mIn[34], line 12\u001b[1;36m\u001b[0m\n\u001b[1;33m    file.write(modified_text)\u001b[0m\n\u001b[1;37m    ^\u001b[0m\n\u001b[1;31mIndentationError\u001b[0m\u001b[1;31m:\u001b[0m expected an indented block after 'with' statement on line 11\n"
     ]
    }
   ],
   "source": [
    "import re\n",
    "\n",
    "# Read the text file and store its content in a variable\n",
    "with open('filename.txt', 'r') as file:\n",
    "  text = file.read()\n",
    "\n",
    "# Use regular expressions to remove the parenthesis area\n",
    "modified_text = re.sub(r'\\([^()]*\\)', '', text)\n",
    "\n",
    "# Save the modified text back to the text file\n",
    "with open('filename.txt', 'w') as file:\n",
    "file.write(modified_text)"
   ]
  },
  {
   "cell_type": "code",
   "execution_count": 35,
   "id": "859e9f05",
   "metadata": {},
   "outputs": [
    {
     "data": {
      "text/plain": [
       "['example (.com)',\n",
       " 'hr@fliprobo (.com)',\n",
       " 'github (.com)',\n",
       " 'Hello (Data Science World)',\n",
       " 'Data (Scientist)']"
      ]
     },
     "execution_count": 35,
     "metadata": {},
     "output_type": "execute_result"
    }
   ],
   "source": [
    "[\"example (.com)\", \"hr@fliprobo (.com)\", \"github (.com)\", \"Hello (Data Science World)\", \"Data (Scientist)\"]"
   ]
  },
  {
   "cell_type": "code",
   "execution_count": 38,
   "id": "020b844f",
   "metadata": {},
   "outputs": [
    {
     "name": "stdout",
     "output_type": "stream",
     "text": [
      "Qns-7 Write a regular expression in Python to split a string into uppercase letters\n"
     ]
    }
   ],
   "source": [
    "print (\"Qns-7 Write a regular expression in Python to split a string into uppercase letters\")"
   ]
  },
  {
   "cell_type": "code",
   "execution_count": 39,
   "id": "5819f953",
   "metadata": {},
   "outputs": [
    {
     "name": "stdout",
     "output_type": "stream",
     "text": [
      "['Importance', 'Of', 'Regular', 'Expressions', 'In', 'Python']\n"
     ]
    }
   ],
   "source": [
    "import re\n",
    "text = \"ImportanceOfRegularExpressionsInPython\"\n",
    "print (re.findall('[A-Z][^A-Z]*', text))\n"
   ]
  },
  {
   "cell_type": "code",
   "execution_count": 40,
   "id": "09c1e031",
   "metadata": {},
   "outputs": [
    {
     "name": "stdout",
     "output_type": "stream",
     "text": [
      "Qns-8 Create a function in python to insert spaces between words starting with numbers\n"
     ]
    }
   ],
   "source": [
    "print (\"Qns-8 Create a function in python to insert spaces between words starting with numbers\")"
   ]
  },
  {
   "cell_type": "code",
   "execution_count": 42,
   "id": "9a0ebe27",
   "metadata": {},
   "outputs": [
    {
     "name": "stdout",
     "output_type": "stream",
     "text": [
      "Python\n",
      "Python Exercises\n",
      "Python Exercises Practice Solution\n"
     ]
    }
   ],
   "source": [
    "import re\n",
    "def capital_words_spaces(str1):\n",
    "  return re.sub(r\"(\\w)([A-Z])\", r\"\\1 \\2\", str1)\n",
    "\n",
    "print(capital_words_spaces(\"Python\"))\n",
    "print(capital_words_spaces(\"PythonExercises\"))\n",
    "print(capital_words_spaces(\"PythonExercisesPracticeSolution\"))\n"
   ]
  },
  {
   "cell_type": "code",
   "execution_count": 43,
   "id": "e9b4c36f",
   "metadata": {},
   "outputs": [
    {
     "name": "stdout",
     "output_type": "stream",
     "text": [
      "Qns-9 Create a function in python to insert spaces between words starting with capital letters or with numbers\n"
     ]
    }
   ],
   "source": [
    "print (\"Qns-9 Create a function in python to insert spaces between words starting with capital letters or with numbers\")"
   ]
  },
  {
   "cell_type": "code",
   "execution_count": 44,
   "id": "5130759f",
   "metadata": {},
   "outputs": [
    {
     "name": "stdout",
     "output_type": "stream",
     "text": [
      "Python\n",
      "Python Exercises\n",
      "Python Exercises Practice Solution\n"
     ]
    }
   ],
   "source": [
    "import re\n",
    "def capital_words_spaces(str1):\n",
    "  return re.sub(r\"(\\w)([A-Z])\", r\"\\1 \\2\", str1)\n",
    "\n",
    "print(capital_words_spaces(\"Python\"))\n",
    "print(capital_words_spaces(\"PythonExercises\"))\n",
    "print(capital_words_spaces(\"PythonExercisesPracticeSolution\"))\n"
   ]
  },
  {
   "cell_type": "code",
   "execution_count": 45,
   "id": "23a2a68b",
   "metadata": {},
   "outputs": [
    {
     "name": "stdout",
     "output_type": "stream",
     "text": [
      "Qns-10 Use the github link below to read the data and create a dataframe. After creating the dataframe extract the first 6 letters of each country and store in the dataframe under a new column called first_five_letters\n"
     ]
    }
   ],
   "source": [
    "print (\"Qns-10 Use the github link below to read the data and create a dataframe. After creating the dataframe extract the first 6 letters of each country and store in the dataframe under a new column called first_five_letters\")"
   ]
  },
  {
   "cell_type": "code",
   "execution_count": 52,
   "id": "8393b07a",
   "metadata": {},
   "outputs": [
    {
     "name": "stdout",
     "output_type": "stream",
     "text": [
      "This Question is not clear, please expain\n"
     ]
    }
   ],
   "source": [
    "print (\"This Question is not clear, please expain\")"
   ]
  },
  {
   "cell_type": "code",
   "execution_count": 53,
   "id": "e334e497",
   "metadata": {},
   "outputs": [
    {
     "name": "stdout",
     "output_type": "stream",
     "text": [
      "Qns-11 Write a Python program to match a string that contains only upper and lowercase letters, numbers, and underscores\n"
     ]
    }
   ],
   "source": [
    "print (\"Qns-11 Write a Python program to match a string that contains only upper and lowercase letters, numbers, and underscores\")"
   ]
  },
  {
   "cell_type": "code",
   "execution_count": 56,
   "id": "0636ca67",
   "metadata": {},
   "outputs": [
    {
     "name": "stdout",
     "output_type": "stream",
     "text": [
      "Not matched!\n",
      "Found a match!\n"
     ]
    }
   ],
   "source": [
    "def text_match(text):\n",
    "        patterns = '^[a-zA-Z0-9_]*$'\n",
    "        if re.search(patterns,  text):\n",
    "                return 'Found a match!'\n",
    "        else:\n",
    "                return('Not matched!')\n",
    "            \n",
    "print(text_match(\"The quick brown fox jumps over the lazy dog.\"))\n",
    "print(text_match(\"Python_Exercises_1\"))\n"
   ]
  },
  {
   "cell_type": "code",
   "execution_count": 58,
   "id": "c09078cf",
   "metadata": {},
   "outputs": [
    {
     "name": "stdout",
     "output_type": "stream",
     "text": [
      "Qns-12 Write a Python program where a string will start with a specific number\n"
     ]
    }
   ],
   "source": [
    "print (\"Qns-12 Write a Python program where a string will start with a specific number\")"
   ]
  },
  {
   "cell_type": "code",
   "execution_count": 59,
   "id": "73554c62",
   "metadata": {},
   "outputs": [
    {
     "ename": "IndentationError",
     "evalue": "expected an indented block after 'if' statement on line 2 (286981640.py, line 3)",
     "output_type": "error",
     "traceback": [
      "\u001b[1;36m  Cell \u001b[1;32mIn[59], line 3\u001b[1;36m\u001b[0m\n\u001b[1;33m    return True\u001b[0m\n\u001b[1;37m    ^\u001b[0m\n\u001b[1;31mIndentationError\u001b[0m\u001b[1;31m:\u001b[0m expected an indented block after 'if' statement on line 2\n"
     ]
    }
   ],
   "source": [
    "def check_starting_number(string, number):\n",
    "  if string.startswith(str(number)):\n",
    "  return True\n",
    "  else:\n",
    "  return False\n",
    "\n",
    "# Example usage\n",
    "string = \"123abc\"\n",
    "number = 123\n"
   ]
  },
  {
   "cell_type": "code",
   "execution_count": 60,
   "id": "50853a4b",
   "metadata": {},
   "outputs": [
    {
     "ename": "SyntaxError",
     "evalue": "unterminated string literal (detected at line 3) (2352677442.py, line 3)",
     "output_type": "error",
     "traceback": [
      "\u001b[1;36m  Cell \u001b[1;32mIn[60], line 3\u001b[1;36m\u001b[0m\n\u001b[1;33m    print(\"The\u001b[0m\n\u001b[1;37m          ^\u001b[0m\n\u001b[1;31mSyntaxError\u001b[0m\u001b[1;31m:\u001b[0m unterminated string literal (detected at line 3)\n"
     ]
    }
   ],
   "source": [
    "print(\"The string starts with the specified number.\")\n",
    "else:\n",
    "  print(\"The \n"
   ]
  },
  {
   "cell_type": "code",
   "execution_count": 61,
   "id": "0da36df1",
   "metadata": {},
   "outputs": [
    {
     "name": "stdout",
     "output_type": "stream",
     "text": [
      "Qns-13 Write a Python program to remove leading zeros from an IP address\n"
     ]
    }
   ],
   "source": [
    "print (\"Qns-13 Write a Python program to remove leading zeros from an IP address\")"
   ]
  },
  {
   "cell_type": "code",
   "execution_count": 62,
   "id": "2e22e66e",
   "metadata": {},
   "outputs": [
    {
     "name": "stdout",
     "output_type": "stream",
     "text": [
      "216.8.94.196\n"
     ]
    }
   ],
   "source": [
    "import re\n",
    "ip = \"216.08.094.196\"\n",
    "string = re.sub('\\.[0]*', '.', ip)\n",
    "print(string)\n"
   ]
  },
  {
   "cell_type": "code",
   "execution_count": 63,
   "id": "6c459870",
   "metadata": {},
   "outputs": [
    {
     "name": "stdout",
     "output_type": "stream",
     "text": [
      "Qns-14 Write a regular expression in python to match a date string in the form of Month name followed by day number and year stored in a text file\n"
     ]
    }
   ],
   "source": [
    "print (\"Qns-14 Write a regular expression in python to match a date string in the form of Month name followed by day number and year stored in a text file\")"
   ]
  },
  {
   "cell_type": "code",
   "execution_count": 67,
   "id": "82e211e3",
   "metadata": {},
   "outputs": [
    {
     "name": "stdout",
     "output_type": "stream",
     "text": [
      "['August']\n"
     ]
    }
   ],
   "source": [
    "text = \"On August 15th 1947 that India was declared independent from British colonialism, and the reins of control were handed over to the leaders of the Country.\"\n",
    "\n",
    "pattern = r\"\\b([A-Z][a-z]+) \\d{1,2}(?:st|nd|rd|th)? \\d{4}\\b\"\n",
    "\n",
    "matches = re.findall(pattern, text)\n",
    "\n",
    "print(matches)\n"
   ]
  },
  {
   "cell_type": "code",
   "execution_count": 69,
   "id": "18feca34",
   "metadata": {},
   "outputs": [
    {
     "name": "stdout",
     "output_type": "stream",
     "text": [
      "Qns-15 Write a Python program to search some literals strings in a string\n"
     ]
    }
   ],
   "source": [
    "print (\"Qns-15 Write a Python program to search some literals strings in a string\")"
   ]
  },
  {
   "cell_type": "code",
   "execution_count": 70,
   "id": "b57f5f55",
   "metadata": {},
   "outputs": [],
   "source": [
    "import re\n",
    "patterns = [ 'fox', 'dog', 'horse' ]\n",
    "text = 'The quick brown fox jumps over the lazy dog.'\n"
   ]
  },
  {
   "cell_type": "code",
   "execution_count": 71,
   "id": "9cce2518",
   "metadata": {},
   "outputs": [
    {
     "name": "stdout",
     "output_type": "stream",
     "text": [
      "Searching for \"fox\" in \"The quick brown fox jumps over the lazy dog.\" ->\n",
      "Matched!\n",
      "Searching for \"dog\" in \"The quick brown fox jumps over the lazy dog.\" ->\n",
      "Matched!\n",
      "Searching for \"horse\" in \"The quick brown fox jumps over the lazy dog.\" ->\n"
     ]
    }
   ],
   "source": [
    "for pattern in patterns:\n",
    "    print('Searching for \"%s\" in \"%s\" ->' % (pattern, text),)\n",
    "    if re.search(pattern,  text):\n",
    "        print('Matched!')\n"
   ]
  },
  {
   "cell_type": "code",
   "execution_count": 72,
   "id": "33d49c0d",
   "metadata": {},
   "outputs": [
    {
     "name": "stdout",
     "output_type": "stream",
     "text": [
      "Qns-16 Write a Python program to search a literals string in a string and also find the location within the original string where the pattern occurs\n"
     ]
    }
   ],
   "source": [
    "print (\"Qns-16 Write a Python program to search a literals string in a string and also find the location within the original string where the pattern occurs\")"
   ]
  },
  {
   "cell_type": "code",
   "execution_count": 73,
   "id": "66734472",
   "metadata": {},
   "outputs": [
    {
     "name": "stdout",
     "output_type": "stream",
     "text": [
      "Found \"fox\" in \"The quick brown fox jumps over the lazy dog.\" from 16 to 19 \n"
     ]
    }
   ],
   "source": [
    "pattern = 'fox'\n",
    "text = 'The quick brown fox jumps over the lazy dog.'\n",
    "match = re.search(pattern, text)\n",
    "s = match.start()\n",
    "e = match.end()\n",
    "print('Found \"%s\" in \"%s\" from %d to %d ' % \\\n",
    "    (match.re.pattern, match.string, s, e))\n"
   ]
  },
  {
   "cell_type": "code",
   "execution_count": 74,
   "id": "4fd8a166",
   "metadata": {},
   "outputs": [
    {
     "name": "stdout",
     "output_type": "stream",
     "text": [
      "Qns- 17 Write a Python program to find the substrings within a string\n"
     ]
    }
   ],
   "source": [
    "print (\"Qns- 17 Write a Python program to find the substrings within a string\")"
   ]
  },
  {
   "cell_type": "code",
   "execution_count": 75,
   "id": "2d045f98",
   "metadata": {},
   "outputs": [
    {
     "name": "stdout",
     "output_type": "stream",
     "text": [
      "Found \"exercises\"\n",
      "Found \"exercises\"\n",
      "Found \"exercises\"\n"
     ]
    }
   ],
   "source": [
    "text = 'Python exercises, PHP exercises, C# exercises'\n",
    "pattern = 'exercises'\n",
    "for match in re.findall(pattern, text):\n",
    "    print('Found \"%s\"' % match)\n"
   ]
  },
  {
   "cell_type": "code",
   "execution_count": 76,
   "id": "81dcb6c0",
   "metadata": {},
   "outputs": [
    {
     "name": "stdout",
     "output_type": "stream",
     "text": [
      "Qns- 18 Write a Python program to find the occurrence and position of the substrings within a string\n"
     ]
    }
   ],
   "source": [
    "print (\"Qns- 18 Write a Python program to find the occurrence and position of the substrings within a string\")"
   ]
  },
  {
   "cell_type": "code",
   "execution_count": 77,
   "id": "fa49bd76",
   "metadata": {},
   "outputs": [
    {
     "name": "stdout",
     "output_type": "stream",
     "text": [
      "Found \"exercises\" at 7:16\n",
      "Found \"exercises\" at 22:31\n",
      "Found \"exercises\" at 36:45\n"
     ]
    }
   ],
   "source": [
    "text = 'Python exercises, PHP exercises, C# exercises'\n",
    "pattern = 'exercises'\n",
    "for match in re.finditer(pattern, text):\n",
    "    s = match.start()\n",
    "    e = match.end()\n",
    "    print('Found \"%s\" at %d:%d' % (text[s:e], s, e))\n"
   ]
  },
  {
   "cell_type": "code",
   "execution_count": 78,
   "id": "73a042c0",
   "metadata": {},
   "outputs": [
    {
     "name": "stdout",
     "output_type": "stream",
     "text": [
      "Qns-19 Write a Python program to convert a date of yyyy-mm-dd format to dd-mm-yyyy format\n"
     ]
    }
   ],
   "source": [
    "print (\"Qns-19 Write a Python program to convert a date of yyyy-mm-dd format to dd-mm-yyyy format\")"
   ]
  },
  {
   "cell_type": "code",
   "execution_count": 79,
   "id": "5d479267",
   "metadata": {},
   "outputs": [
    {
     "name": "stdout",
     "output_type": "stream",
     "text": [
      "Original date in YYY-MM-DD Format:  2026-01-02\n",
      "New date in DD-MM-YYYY Format:  02-01-2026\n"
     ]
    }
   ],
   "source": [
    "def change_date_format(dt):\n",
    "        return re.sub(r'(\\d{4})-(\\d{1,2})-(\\d{1,2})', '\\\\3-\\\\2-\\\\1', dt)\n",
    "dt1 = \"2026-01-02\"\n",
    "print(\"Original date in YYY-MM-DD Format: \",dt1)\n",
    "print(\"New date in DD-MM-YYYY Format: \",change_date_format(dt1))\n"
   ]
  },
  {
   "cell_type": "code",
   "execution_count": 80,
   "id": "828b663c",
   "metadata": {},
   "outputs": [
    {
     "name": "stdout",
     "output_type": "stream",
     "text": [
      "Qns- 20 Create a function in python to find all decimal numbers with a precision of 1 or 2 in a string. The use of the re.compile() method is mandatory\n"
     ]
    }
   ],
   "source": [
    "print (\"Qns- 20 Create a function in python to find all decimal numbers with a precision of 1 or 2 in a string. The use of the re.compile() method is mandatory\")"
   ]
  },
  {
   "cell_type": "code",
   "execution_count": 81,
   "id": "5e496a37",
   "metadata": {},
   "outputs": [],
   "source": [
    "def find_decimal_numbers(string):\n",
    "  pattern = re.compile(r'\\d+\\.\\d{1,2}')\n",
    "  decimal_numbers = re.findall(pattern, string)\n",
    "  return decimal_numbers\n"
   ]
  },
  {
   "cell_type": "code",
   "execution_count": 82,
   "id": "ad9bcf17",
   "metadata": {},
   "outputs": [
    {
     "name": "stdout",
     "output_type": "stream",
     "text": [
      "['01.12', '0132.12', '2.31', '145.8', '3.01', '27.25', '0.25']\n"
     ]
    }
   ],
   "source": [
    "sample_text = \"01.12 0132.123 2.31875 145.8 3.01 27.25 0.25\"\n",
    "output = find_decimal_numbers(sample_text)\n",
    "print(output)\n"
   ]
  },
  {
   "cell_type": "code",
   "execution_count": 83,
   "id": "b54b6e19",
   "metadata": {},
   "outputs": [
    {
     "name": "stdout",
     "output_type": "stream",
     "text": [
      "Qns-21 Write a Python program to separate and print the numbers and their position of a given string\n"
     ]
    }
   ],
   "source": [
    "print (\"Qns-21 Write a Python program to separate and print the numbers and their position of a given string\")"
   ]
  },
  {
   "cell_type": "code",
   "execution_count": 84,
   "id": "d608ee8c",
   "metadata": {},
   "outputs": [
    {
     "name": "stdout",
     "output_type": "stream",
     "text": [
      "50\n",
      "Index position: 62\n"
     ]
    }
   ],
   "source": [
    "# Input.\n",
    "text = \"The following example creates an ArrayList with a capacity of 50 elements. Four elements are then added to the ArrayList and the ArrayList is trimmed accordingly.\"\n",
    "\n",
    "for m in re.finditer(\"\\d+\", text):\n",
    "    print(m.group(0))\n",
    "    print(\"Index position:\", m.start())\n"
   ]
  },
  {
   "cell_type": "code",
   "execution_count": 85,
   "id": "1ff88110",
   "metadata": {},
   "outputs": [
    {
     "name": "stdout",
     "output_type": "stream",
     "text": [
      "Qns- 22 Write a regular expression in python program to extract maximum/largest numeric value from a string\n"
     ]
    }
   ],
   "source": [
    "print (\"Qns- 22 Write a regular expression in python program to extract maximum/largest numeric value from a string\")"
   ]
  },
  {
   "cell_type": "code",
   "execution_count": 86,
   "id": "df2d1a76",
   "metadata": {},
   "outputs": [
    {
     "name": "stdout",
     "output_type": "stream",
     "text": [
      "950\n"
     ]
    }
   ],
   "source": [
    "input_string = 'My marks in each semester are: 947, 896, 926, 524, 734, 950, 642'\n",
    "\n",
    "numeric_values = re.findall(r'\\d+', input_string)\n",
    "numeric_values = [int(value) for value in numeric_values]\n",
    "\n",
    "max_value = max(numeric_values)\n",
    "\n",
    "print(max_value)\n"
   ]
  },
  {
   "cell_type": "code",
   "execution_count": 87,
   "id": "bd33510d",
   "metadata": {},
   "outputs": [
    {
     "name": "stdout",
     "output_type": "stream",
     "text": [
      "Qns- 23 Create a function in python to insert spaces between words starting with capital letters\n"
     ]
    }
   ],
   "source": [
    "print (\"Qns- 23 Create a function in python to insert spaces between words starting with capital letters\")"
   ]
  },
  {
   "cell_type": "code",
   "execution_count": 88,
   "id": "bf4b9c89",
   "metadata": {},
   "outputs": [
    {
     "name": "stdout",
     "output_type": "stream",
     "text": [
      "Python\n",
      "Python Exercises\n",
      "Python Exercises Practice Solution\n"
     ]
    }
   ],
   "source": [
    "def capital_words_spaces(str1):\n",
    "  return re.sub(r\"(\\w)([A-Z])\", r\"\\1 \\2\", str1)\n",
    "\n",
    "print(capital_words_spaces(\"Python\"))\n",
    "print(capital_words_spaces(\"PythonExercises\"))\n",
    "print(capital_words_spaces(\"PythonExercisesPracticeSolution\"))\n"
   ]
  },
  {
   "cell_type": "code",
   "execution_count": 89,
   "id": "e104ce95",
   "metadata": {},
   "outputs": [
    {
     "name": "stdout",
     "output_type": "stream",
     "text": [
      "Qns- 24 Python regex to find sequences of one upper case letter followed by lower case letters\n"
     ]
    }
   ],
   "source": [
    "print (\"Qns- 24 Python regex to find sequences of one upper case letter followed by lower case letters\")"
   ]
  },
  {
   "cell_type": "code",
   "execution_count": 90,
   "id": "a3e98df3",
   "metadata": {},
   "outputs": [
    {
     "name": "stdout",
     "output_type": "stream",
     "text": [
      "['This', 'Sample', 'Text', 'Multiple', 'Matches']\n"
     ]
    }
   ],
   "source": [
    "pattern = r'[A-Z][a-z]+'\n",
    "text = \"This is a Sample Text with Multiple Matches\"\n",
    "\n",
    "matches = re.findall(pattern, text)\n",
    "print(matches)\n"
   ]
  },
  {
   "cell_type": "code",
   "execution_count": 91,
   "id": "09d16c17",
   "metadata": {},
   "outputs": [
    {
     "name": "stdout",
     "output_type": "stream",
     "text": [
      "Qns- 25 Write a Python program to remove continuous duplicate words from Sentence using Regular Expression\n"
     ]
    }
   ],
   "source": [
    "print (\"Qns- 25 Write a Python program to remove continuous duplicate words from Sentence using Regular Expression\")"
   ]
  },
  {
   "cell_type": "code",
   "execution_count": 92,
   "id": "2748b4d5",
   "metadata": {},
   "outputs": [
    {
     "name": "stdout",
     "output_type": "stream",
     "text": [
      "Hello hello world\n"
     ]
    }
   ],
   "source": [
    "def remove_duplicates(sentence):\n",
    "  pattern = r'\\b(\\w+)(\\s+\\1\\b)+'\n",
    "  result = re.sub(pattern, r'\\1', sentence)\n",
    "  return result\n",
    "\n",
    "# Example usage\n",
    "sentence = \"Hello hello world world\"\n",
    "output = remove_duplicates(sentence)\n",
    "print(output)\n"
   ]
  },
  {
   "cell_type": "code",
   "execution_count": 93,
   "id": "c3000889",
   "metadata": {},
   "outputs": [
    {
     "name": "stdout",
     "output_type": "stream",
     "text": [
      "Qns -26 Write a python program using RegEx to accept string ending with alphanumeric character\n"
     ]
    }
   ],
   "source": [
    "print (\"Qns -26 Write a python program using RegEx to accept string ending with alphanumeric character\")"
   ]
  },
  {
   "cell_type": "code",
   "execution_count": 96,
   "id": "85646285",
   "metadata": {},
   "outputs": [
    {
     "ename": "IndentationError",
     "evalue": "expected an indented block after 'if' statement on line 4 (1305981808.py, line 5)",
     "output_type": "error",
     "traceback": [
      "\u001b[1;36m  Cell \u001b[1;32mIn[96], line 5\u001b[1;36m\u001b[0m\n\u001b[1;33m    return True\u001b[0m\n\u001b[1;37m    ^\u001b[0m\n\u001b[1;31mIndentationError\u001b[0m\u001b[1;31m:\u001b[0m expected an indented block after 'if' statement on line 4\n"
     ]
    }
   ],
   "source": [
    "def check_string(string):\n",
    "  pattern = r\"\\w$\"\n",
    "  match = re.search(pattern, string)\n",
    "  if match:\n",
    "  return True\n",
    "  else:\n",
    "  return False\n"
   ]
  },
  {
   "cell_type": "code",
   "execution_count": 98,
   "id": "825aa7ec",
   "metadata": {},
   "outputs": [
    {
     "name": "stdout",
     "output_type": "stream",
     "text": [
      "Enter a string: re.search\n"
     ]
    },
    {
     "ename": "NameError",
     "evalue": "name 'check_string' is not defined",
     "output_type": "error",
     "traceback": [
      "\u001b[1;31m---------------------------------------------------------------------------\u001b[0m",
      "\u001b[1;31mNameError\u001b[0m                                 Traceback (most recent call last)",
      "Cell \u001b[1;32mIn[98], line 3\u001b[0m\n\u001b[0;32m      1\u001b[0m \u001b[38;5;66;03m# Example usage\u001b[39;00m\n\u001b[0;32m      2\u001b[0m input_string \u001b[38;5;241m=\u001b[39m \u001b[38;5;28minput\u001b[39m(\u001b[38;5;124m\"\u001b[39m\u001b[38;5;124mEnter a string: \u001b[39m\u001b[38;5;124m\"\u001b[39m)\n\u001b[1;32m----> 3\u001b[0m \u001b[38;5;28;01mif\u001b[39;00m check_string(input_string):\n\u001b[0;32m      4\u001b[0m   \u001b[38;5;28mprint\u001b[39m(\u001b[38;5;124m\"\u001b[39m\u001b[38;5;124mString ends with an alphanumeric character\u001b[39m\u001b[38;5;124m\"\u001b[39m)\n\u001b[0;32m      5\u001b[0m \u001b[38;5;28;01melse\u001b[39;00m:\n",
      "\u001b[1;31mNameError\u001b[0m: name 'check_string' is not defined"
     ]
    }
   ],
   "source": [
    "# Example usage\n",
    "input_string = input(\"Enter a string: \")\n",
    "if check_string(input_string):\n",
    "  print(\"String ends with an alphanumeric character\")\n",
    "else:\n",
    "  print(\"String does not end with an alphanumeric character\")\n"
   ]
  },
  {
   "cell_type": "code",
   "execution_count": 100,
   "id": "1b60a558",
   "metadata": {},
   "outputs": [
    {
     "name": "stdout",
     "output_type": "stream",
     "text": [
      "Qns- 27 Write a python program using RegEx to extract the hashtags\n"
     ]
    }
   ],
   "source": [
    "print (\"Qns- 27 Write a python program using RegEx to extract the hashtags\")"
   ]
  },
  {
   "cell_type": "code",
   "execution_count": null,
   "id": "95161f2e",
   "metadata": {},
   "outputs": [],
   "source": [
    "def extract_hashtags(text):\n",
    "  hashtags = re.findall(r'#\\w+', text)\n",
    "  return hashtags\n",
    "\n",
    "# Sample text\n",
    "text = 'RT @kapil_kausik: #Doltiwal I mean #xyzabc is \"hurt\" by #Demonetization as the same has rendered USELESS <ed><U+00A0><U+00BD><ed><U+00B1><U+0089> \"acquired funds\" No wo'\n"
   ]
  },
  {
   "cell_type": "code",
   "execution_count": null,
   "id": "907e1ad4",
   "metadata": {},
   "outputs": [],
   "source": [
    "# Extract hashtags\n",
    "hashtags = extract_hashtags(text)\n",
    "\n",
    "# Print the extracted hashtags\n",
    "print(hashtags)\n"
   ]
  },
  {
   "cell_type": "code",
   "execution_count": 99,
   "id": "6e41c176",
   "metadata": {},
   "outputs": [
    {
     "name": "stdout",
     "output_type": "stream",
     "text": [
      "Qns-28 Write a python program using RegEx to remove <U+..> like symbols\n"
     ]
    }
   ],
   "source": [
    "print (\"Qns-28 Write a python program using RegEx to remove <U+..> like symbols\")"
   ]
  },
  {
   "cell_type": "code",
   "execution_count": 101,
   "id": "468f275d",
   "metadata": {},
   "outputs": [
    {
     "name": "stdout",
     "output_type": "stream",
     "text": [
      "@Jags123456 Bharat band on 28??<ed><ed>Those who are protesting #demonetization are all different party leaders\n"
     ]
    }
   ],
   "source": [
    "input_text = \"@Jags123456 Bharat band on 28??<ed><U+00A0><U+00BD><ed><U+00B8><U+0082>Those who are protesting #demonetization are all different party leaders\"\n",
    "\n",
    "pattern = r\"<U\\+\\w{4}>\"\n",
    "output_text = re.sub(pattern, \"\", input_text)\n",
    "\n",
    "print(output_text)\n"
   ]
  },
  {
   "cell_type": "code",
   "execution_count": 102,
   "id": "59fd0de2",
   "metadata": {},
   "outputs": [
    {
     "name": "stdout",
     "output_type": "stream",
     "text": [
      "Qns-29 Write a python program to extract dates from the text stored in the text file\n"
     ]
    }
   ],
   "source": [
    "print (\"Qns-29 Write a python program to extract dates from the text stored in the text file\")"
   ]
  },
  {
   "cell_type": "code",
   "execution_count": 105,
   "id": "f216941a",
   "metadata": {},
   "outputs": [
    {
     "ename": "FileNotFoundError",
     "evalue": "[Errno 2] No such file or directory: 'filename.txt'",
     "output_type": "error",
     "traceback": [
      "\u001b[1;31m---------------------------------------------------------------------------\u001b[0m",
      "\u001b[1;31mFileNotFoundError\u001b[0m                         Traceback (most recent call last)",
      "Cell \u001b[1;32mIn[105], line 2\u001b[0m\n\u001b[0;32m      1\u001b[0m \u001b[38;5;66;03m# Open the text file\u001b[39;00m\n\u001b[1;32m----> 2\u001b[0m \u001b[38;5;28;01mwith\u001b[39;00m \u001b[38;5;28mopen\u001b[39m(\u001b[38;5;124m'\u001b[39m\u001b[38;5;124mfilename.txt\u001b[39m\u001b[38;5;124m'\u001b[39m, \u001b[38;5;124m'\u001b[39m\u001b[38;5;124mr\u001b[39m\u001b[38;5;124m'\u001b[39m) \u001b[38;5;28;01mas\u001b[39;00m file:\n\u001b[0;32m      3\u001b[0m   text \u001b[38;5;241m=\u001b[39m file\u001b[38;5;241m.\u001b[39mread()\n\u001b[0;32m      5\u001b[0m \u001b[38;5;66;03m# Define the regular expression pattern for dates\u001b[39;00m\n",
      "File \u001b[1;32mC:\\ProgramData\\anaconda3\\Lib\\site-packages\\IPython\\core\\interactiveshell.py:284\u001b[0m, in \u001b[0;36m_modified_open\u001b[1;34m(file, *args, **kwargs)\u001b[0m\n\u001b[0;32m    277\u001b[0m \u001b[38;5;28;01mif\u001b[39;00m file \u001b[38;5;129;01min\u001b[39;00m {\u001b[38;5;241m0\u001b[39m, \u001b[38;5;241m1\u001b[39m, \u001b[38;5;241m2\u001b[39m}:\n\u001b[0;32m    278\u001b[0m     \u001b[38;5;28;01mraise\u001b[39;00m \u001b[38;5;167;01mValueError\u001b[39;00m(\n\u001b[0;32m    279\u001b[0m         \u001b[38;5;124mf\u001b[39m\u001b[38;5;124m\"\u001b[39m\u001b[38;5;124mIPython won\u001b[39m\u001b[38;5;124m'\u001b[39m\u001b[38;5;124mt let you open fd=\u001b[39m\u001b[38;5;132;01m{\u001b[39;00mfile\u001b[38;5;132;01m}\u001b[39;00m\u001b[38;5;124m by default \u001b[39m\u001b[38;5;124m\"\u001b[39m\n\u001b[0;32m    280\u001b[0m         \u001b[38;5;124m\"\u001b[39m\u001b[38;5;124mas it is likely to crash IPython. If you know what you are doing, \u001b[39m\u001b[38;5;124m\"\u001b[39m\n\u001b[0;32m    281\u001b[0m         \u001b[38;5;124m\"\u001b[39m\u001b[38;5;124myou can use builtins\u001b[39m\u001b[38;5;124m'\u001b[39m\u001b[38;5;124m open.\u001b[39m\u001b[38;5;124m\"\u001b[39m\n\u001b[0;32m    282\u001b[0m     )\n\u001b[1;32m--> 284\u001b[0m \u001b[38;5;28;01mreturn\u001b[39;00m io_open(file, \u001b[38;5;241m*\u001b[39margs, \u001b[38;5;241m*\u001b[39m\u001b[38;5;241m*\u001b[39mkwargs)\n",
      "\u001b[1;31mFileNotFoundError\u001b[0m: [Errno 2] No such file or directory: 'filename.txt'"
     ]
    }
   ],
   "source": [
    "# Open the text file\n",
    "with open('filename.txt', 'r') as file:\n",
    "  text = file.read()\n",
    "\n",
    "# Define the regular expression pattern for dates\n",
    "pattern = r'\\d{2}-\\d{2}-\\d{4}'\n",
    "\n",
    "# Find all matches of the pattern in the text\n",
    "dates = re.findall(pattern, text)\n",
    "\n",
    "# Print the extracted dates\n",
    "for date in dates:\n",
    "  print(date)\n"
   ]
  },
  {
   "cell_type": "code",
   "execution_count": 106,
   "id": "15210dfd",
   "metadata": {},
   "outputs": [
    {
     "name": "stdout",
     "output_type": "stream",
     "text": [
      "Qns-30 Create a function in python to remove all words from a string of length between 2 and 4\n"
     ]
    }
   ],
   "source": [
    "print (\"Qns-30 Create a function in python to remove all words from a string of length between 2 and 4\")"
   ]
  },
  {
   "cell_type": "code",
   "execution_count": 107,
   "id": "2a65e7a3",
   "metadata": {},
   "outputs": [],
   "source": [
    "def remove_words(string):\n",
    "  pattern = re.compile(r'\\b\\w{2,4}\\b')\n",
    "  modified_string = re.sub(pattern, '', string)\n",
    "  return modified_string\n"
   ]
  },
  {
   "cell_type": "code",
   "execution_count": 108,
   "id": "a48e686b",
   "metadata": {},
   "outputs": [
    {
     "name": "stdout",
     "output_type": "stream",
     "text": [
      "False\n"
     ]
    }
   ],
   "source": [
    "sample_text = \"The following example creates an ArrayList with a capacity of 50 elements. 4 elements are then added to the ArrayList and the ArrayList is trimmed accordingly.\"\n",
    "expected_output = \"following example creates ArrayList a capacity elements. 4 elements added ArrayList ArrayList trimmed accordingly.\"\n",
    "\n",
    "result = remove_words(sample_text)\n",
    "print(result == expected_output)  # True\n"
   ]
  },
  {
   "cell_type": "code",
   "execution_count": null,
   "id": "eb69221f",
   "metadata": {},
   "outputs": [],
   "source": []
  }
 ],
 "metadata": {
  "kernelspec": {
   "display_name": "Python 3 (ipykernel)",
   "language": "python",
   "name": "python3"
  },
  "language_info": {
   "codemirror_mode": {
    "name": "ipython",
    "version": 3
   },
   "file_extension": ".py",
   "mimetype": "text/x-python",
   "name": "python",
   "nbconvert_exporter": "python",
   "pygments_lexer": "ipython3",
   "version": "3.11.4"
  }
 },
 "nbformat": 4,
 "nbformat_minor": 5
}
